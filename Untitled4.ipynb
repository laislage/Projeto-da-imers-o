{
  "nbformat": 4,
  "nbformat_minor": 0,
  "metadata": {
    "colab": {
      "provenance": [],
      "toc_visible": true,
      "authorship_tag": "ABX9TyNgjaVOEJO/IvwmQZT57Lew",
      "include_colab_link": true
    },
    "kernelspec": {
      "name": "python3",
      "display_name": "Python 3"
    },
    "language_info": {
      "name": "python"
    }
  },
  "cells": [
    {
      "cell_type": "markdown",
      "metadata": {
        "id": "view-in-github",
        "colab_type": "text"
      },
      "source": [
        "<a href=\"https://colab.research.google.com/github/laislage/Projeto-da-imers-o/blob/main/Untitled4.ipynb\" target=\"_parent\"><img src=\"https://colab.research.google.com/assets/colab-badge.svg\" alt=\"Open In Colab\"/></a>"
      ]
    },
    {
      "cell_type": "code",
      "execution_count": 1,
      "metadata": {
        "id": "cG-xl2WpeUZZ"
      },
      "outputs": [],
      "source": [
        "!pip install -q -U google-generativeai"
      ]
    },
    {
      "cell_type": "code",
      "source": [
        "import google.generativeai as genai\n",
        "from google.colab import userdata\n",
        "api_key = userdata.get('secret_key')\n",
        "genai.configure(api_key=api_key)"
      ],
      "metadata": {
        "id": "Z0I6kQLlerRM"
      },
      "execution_count": 4,
      "outputs": []
    },
    {
      "cell_type": "markdown",
      "source": [],
      "metadata": {
        "id": "u1r3a-Eteq4z"
      }
    },
    {
      "cell_type": "code",
      "source": [
        "model = genai.GenerativeModel('gemini-pro')"
      ],
      "metadata": {
        "id": "kfkxbnEofdkU"
      },
      "execution_count": 5,
      "outputs": []
    },
    {
      "cell_type": "code",
      "source": [
        "response = model.generate_content(\"vamos aprender a fazer um atendimento ao cliente final.\")\n",
        "print(response.text)"
      ],
      "metadata": {
        "colab": {
          "base_uri": "https://localhost:8080/",
          "height": 957
        },
        "id": "rz37vkUUoeq6",
        "outputId": "1299fadb-4577-43c1-9078-a7d62671e7f0"
      },
      "execution_count": 6,
      "outputs": [
        {
          "output_type": "stream",
          "name": "stdout",
          "text": [
            "**Guia para Atendimento ao Cliente Final**\n",
            "\n",
            "**Princípios Básicos**\n",
            "\n",
            "* Seja **amigável, profissional e compreensivo**.\n",
            "* **Escute ativamente** as necessidades e preocupações do cliente.\n",
            "* Mostre **empatia** e entenda a perspectiva do cliente.\n",
            "* **Responda de forma clara e concisa**.\n",
            "* Use uma **linguagem positiva** e evite jargões técnicos.\n",
            "\n",
            "**Etapas**\n",
            "\n",
            "**1. Recepção**\n",
            "\n",
            "* Cumprimente o cliente calorosamente.\n",
            "* Identifique-se e, se possível, obtenha o nome do cliente.\n",
            "* Pergunte sobre o motivo da ligação ou visita.\n",
            "\n",
            "**2. Compreensão**\n",
            "\n",
            "* Escute atentamente o cliente.\n",
            "* Peça esclarecimentos e resuma a compreensão de suas necessidades.\n",
            "* Use frases de confirmação como \"Então, você está enfrentando...\"\n",
            "\n",
            "**3. Resolução**\n",
            "\n",
            "* Explorar opções de resolução.\n",
            "* Forneça informações claras sobre produtos, serviços ou políticas.\n",
            "* Ofereça soluções práticas e viáveis.\n",
            "* Informe o cliente sobre o próximo passo ou cronograma.\n",
            "\n",
            "**4. Encerramento**\n",
            "\n",
            "* Reitere a solução acordada.\n",
            "* Agradeça ao cliente pelo contato.\n",
            "* Peça feedback sobre a interação.\n",
            "* Encerre a conversa de forma positiva.\n",
            "\n",
            "**Técnicas Avançadas**\n",
            "\n",
            "* **Verbalização:** Repita as declarações do cliente para garantir a compreensão.\n",
            "* **Reformulação:** Reformule as preocupações do cliente de forma mais clara.\n",
            "* **Sondagem:** Faça perguntas abertas para obter informações adicionais.\n",
            "* **Manipulação de Objeções:** Ouça as objeções atentamente, reconheça-as e ofereça soluções.\n",
            "* **Escalonamento:** Se necessário, encaminhe o cliente para alguém com mais conhecimento ou autoridade.\n",
            "\n",
            "**Dicas**\n",
            "\n",
            "* Mantenha a calma e controle suas emoções, mesmo em situações difíceis.\n",
            "* Seja paciente e evite interromper o cliente.\n",
            "* Busque constantemente melhorias em suas habilidades de atendimento ao cliente.\n",
            "* Use tecnologia para agilizar o processo de atendimento, como CRM e chatbots.\n",
            "* Lembre-se de que o objetivo do atendimento ao cliente é resolver problemas, construir relacionamentos e garantir a satisfação do cliente.\n"
          ]
        }
      ]
    },
    {
      "cell_type": "code",
      "source": [
        "chat = model.start_chat(history=[])"
      ],
      "metadata": {
        "id": "f6gS3Ax6pCdf"
      },
      "execution_count": 7,
      "outputs": []
    },
    {
      "cell_type": "code",
      "source": [
        "prompt = input('esperando o prompt:')\n",
        "\n",
        "while prompt != 'fim':\n",
        "  response = chat.send_message(prompt)\n",
        "  print('Resposta:', response.text, '\\n')\n",
        "  prompt = input('esperando o prompt:')"
      ],
      "metadata": {
        "colab": {
          "base_uri": "https://localhost:8080/",
          "height": 139
        },
        "id": "fFtvGHllp5OD",
        "outputId": "840d5df4-16d0-4ade-c0e7-6c5eb622ff6c"
      },
      "execution_count": 10,
      "outputs": [
        {
          "name": "stdout",
          "output_type": "stream",
          "text": [
            "esperando o prompt:qual é a capital do japão\n",
            "Resposta: Tóquio /n\n",
            "esperando o prompt:qual é a comida tipica deste pais\n",
            "Resposta: Sushi /n\n",
            "esperando o prompt:o meu primo nasceu nesta cidade. qual a nacionalidade dele\n",
            "Resposta: Japonesa /n\n",
            "esperando o prompt:fim\n"
          ]
        }
      ]
    },
    {
      "cell_type": "code",
      "source": [
        "chat.history"
      ],
      "metadata": {
        "colab": {
          "base_uri": "https://localhost:8080/"
        },
        "id": "l3FJ8UV8sGcv",
        "outputId": "05690b1d-76d1-4ebb-b0d3-0cae0c3d0d22"
      },
      "execution_count": 11,
      "outputs": [
        {
          "output_type": "execute_result",
          "data": {
            "text/plain": [
              "[parts {\n",
              "   text: \"qual \\303\\251 a capital do jap\\303\\243o\"\n",
              " }\n",
              " role: \"user\",\n",
              " parts {\n",
              "   text: \"T\\303\\263quio\"\n",
              " }\n",
              " role: \"model\",\n",
              " parts {\n",
              "   text: \"qual \\303\\251 a comida tipica deste pais\"\n",
              " }\n",
              " role: \"user\",\n",
              " parts {\n",
              "   text: \"Sushi\"\n",
              " }\n",
              " role: \"model\",\n",
              " parts {\n",
              "   text: \"o meu primo nasceu nesta cidade. qual a nacionalidade dele\"\n",
              " }\n",
              " role: \"user\",\n",
              " parts {\n",
              "   text: \"Japonesa\"\n",
              " }\n",
              " role: \"model\"]"
            ]
          },
          "metadata": {},
          "execution_count": 11
        }
      ]
    },
    {
      "cell_type": "code",
      "source": [
        "prompt = input('esperando o prompt:')\n",
        "\n",
        "while prompt != 'fim':\n",
        "  response = chat.send_message(prompt)\n",
        "  print('Resposta:', response.text, '\\n')\n",
        "  prompt = input('esperando o prompt:')"
      ],
      "metadata": {
        "colab": {
          "base_uri": "https://localhost:8080/",
          "height": 454
        },
        "id": "8pgaT6g0skVK",
        "outputId": "6c29970d-0dce-4b4d-dfe1-5b168f341041"
      },
      "execution_count": 12,
      "outputs": [
        {
          "name": "stdout",
          "output_type": "stream",
          "text": [
            "esperando o prompt:Aja como um advogado especialista em planejamento previdenciário, crie um script de conversa com um potencial cliente que esteja querendo saber quando irá se aposentar e o possível valor da futura aposentadoria no WhatsApp, pontos obrigatórios que deverão constar nesta conversa => Pergunta: Olá tudo bem, como é o seu nome? Aqui é a Dra. Lais Lage, em que posso lhe ajudar (repetir o nome da pessoa)? Trata-se de dúvida jurídica ou não? Resposta: Não Pergunta: Em que posso lhe ajudar? Resposta: Sim Pergunta: Por favor escreva ou mande um áudio explicando a sua situação. Resposta: Entendi, nosso escritório é especialista neste tipo de demanda. Para poder te ajudar, podemos marcar uma consulta por vídeo chamada aqui mesmo pelo whatsapp ou pelo google meet se preferir Resposta:\n",
            "Resposta: **Script de Conversa**\n",
            "\n",
            "**Pergunta:** Olá, tudo bem? Como é o seu nome? Aqui é a Dra. Lais Lage, em que posso lhe ajudar (repetir o nome da pessoa)? Trata-se de dúvida jurídica ou não?\n",
            "\n",
            "**Resposta:** Não\n",
            "\n",
            "**Pergunta:** Em que posso lhe ajudar?\n",
            "\n",
            "**Resposta:** Gostaria de saber quando posso me aposentar e o possível valor da minha futura aposentadoria.\n",
            "\n",
            "**Pergunta:** Por favor escreva ou mande um áudio explicando a sua situação.\n",
            "\n",
            "**Resposta:** Sou trabalhador CLT, tenho 35 anos de idade e contribuo com o INSS desde os 18 anos. Gostaria de saber se já tenho direito a me aposentar e qual seria o valor aproximado da minha aposentadoria.\n",
            "\n",
            "**Pergunta:** Entendi. Nosso escritório é especialista neste tipo de demanda. Para poder te ajudar, podemos marcar uma consulta por vídeo chamada aqui mesmo pelo WhatsApp ou pelo Google Meet se preferir.\n",
            "\n",
            "**Resposta:** Prefiro por vídeo chamada. Pode ser hoje às 14h?\n",
            "\n",
            "**Conclusão:**\n",
            "\n",
            "Após a confirmação do agendamento da consulta por vídeo chamada, a conversa pode ser encerrada com uma mensagem de agradecimento pela confiança e um lembrete sobre o horário da consulta. \n",
            "\n",
            "esperando o prompt:fim\n"
          ]
        }
      ]
    }
  ]
}